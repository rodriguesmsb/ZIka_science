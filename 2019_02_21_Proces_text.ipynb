{
 "cells": [
  {
   "cell_type": "code",
   "execution_count": 1,
   "metadata": {},
   "outputs": [],
   "source": [
    "from tqdm import tqdm\n",
    "import re\n",
    "\n",
    "class ProcessText(object):\n",
    "    \n",
    "    #Start the class with a text object\n",
    "    def __init__(self,path_to_text):\n",
    "        self.text = open(path_to_text, \"r+\")\n",
    "        \n",
    "    #Create a method to read lines\n",
    "    def read_lines(self):\n",
    "        self.lines = self.text.readlines()\n",
    "\n",
    "    #Create a method to split lines\n",
    "    def split_lines(self):\n",
    "        self.list_of_lines = []\n",
    "        for line in self.lines:\n",
    "            self.list_of_lines.append(line.split())\n",
    "            \n",
    "    #Create a method to convert words to lower and removing special charcter\n",
    "    def cleaning_lines(self):\n",
    "        print(\"{:*^118}\".format(\"*\"))\n",
    "        self.new_list_of_lines = []\n",
    "        for line in tqdm(self.list_of_lines):\n",
    "            if \"****\" in line:\n",
    "                self.new_list_of_lines.append(line)\n",
    "            else:\n",
    "                self.new_list_of_lines.append([word.lower() for word in line])\n",
    "                \n",
    "    def change_terms(self,terms,new_terms):\n",
    "        lines = []\n",
    "        for line in self.new_list_of_lines:\n",
    "            for i in range(len(terms)):\n",
    "                line = [word.replace(terms[i], new_terms[i]) for word in line]\n",
    "            lines.append(line)\n",
    "        self.new_list_of_lines = lines\n",
    "                \n",
    "    def to_text(self):\n",
    "        line_list = []\n",
    "        for lines in self.new_list_of_lines:\n",
    "            line_list.append(\" \".join(str(word) for word in lines))\n",
    "        self.text = \" \".join(line for line in line_list)\n",
    "        \n",
    "    def write_text(self,file_name):\n",
    "        f = open(file_name + \".txt\",\"w+\")\n",
    "        for line in self.text:\n",
    "            f.write(line)\n",
    "        f.close()\n",
    "                \n",
    "    def print_text(self,start,stop, text = False):\n",
    "        if text:\n",
    "            print(self.text)\n",
    "        else:\n",
    "            try:\n",
    "                print(self.new_list_of_lines[start:stop])\n",
    "            except:\n",
    "                print(self.list_of_lines[start:stop])       "
   ]
  },
  {
   "cell_type": "code",
   "execution_count": 2,
   "metadata": {},
   "outputs": [],
   "source": [
    "zika = ProcessText(path_to_text = \"/home/rodriguesmsb/Downloads/Zika_science/data/ira/ira_zika 5.txt\")"
   ]
  },
  {
   "cell_type": "code",
   "execution_count": 3,
   "metadata": {},
   "outputs": [],
   "source": [
    "zika.read_lines()"
   ]
  },
  {
   "cell_type": "code",
   "execution_count": 4,
   "metadata": {},
   "outputs": [],
   "source": [
    "zika.split_lines()"
   ]
  },
  {
   "cell_type": "code",
   "execution_count": 5,
   "metadata": {},
   "outputs": [
    {
     "name": "stderr",
     "output_type": "stream",
     "text": [
      "100%|██████████| 13818/13818 [00:00<00:00, 121075.73it/s]"
     ]
    },
    {
     "name": "stdout",
     "output_type": "stream",
     "text": [
      "**********************************************************************************************************************\n"
     ]
    },
    {
     "name": "stderr",
     "output_type": "stream",
     "text": [
      "\n"
     ]
    }
   ],
   "source": [
    "zika.cleaning_lines()"
   ]
  },
  {
   "cell_type": "code",
   "execution_count": 6,
   "metadata": {},
   "outputs": [],
   "source": [
    "zika.change_terms(terms = [\"ae.\"], new_terms = [\"aedes\"])"
   ]
  },
  {
   "cell_type": "code",
   "execution_count": 7,
   "metadata": {},
   "outputs": [],
   "source": [
    "zika.to_text()"
   ]
  },
  {
   "cell_type": "code",
   "execution_count": 8,
   "metadata": {},
   "outputs": [],
   "source": [
    "zika.write_text(file_name = \"ira_zika 6\")"
   ]
  }
 ],
 "metadata": {
  "anaconda-cloud": {},
  "kernelspec": {
   "display_name": "Python 3",
   "language": "python",
   "name": "python3"
  },
  "language_info": {
   "codemirror_mode": {
    "name": "ipython",
    "version": 3
   },
   "file_extension": ".py",
   "mimetype": "text/x-python",
   "name": "python",
   "nbconvert_exporter": "python",
   "pygments_lexer": "ipython3",
   "version": "3.6.7"
  }
 },
 "nbformat": 4,
 "nbformat_minor": 2
}
