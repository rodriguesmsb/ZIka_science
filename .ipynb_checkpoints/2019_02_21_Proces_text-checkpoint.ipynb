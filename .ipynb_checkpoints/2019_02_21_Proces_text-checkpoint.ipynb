{
 "cells": [
  {
   "cell_type": "code",
   "execution_count": 1,
   "metadata": {},
   "outputs": [],
   "source": [
    "from tqdm import tqdm\n",
    "import re\n",
    "\n",
    "class ProcessText(object):\n",
    "    \n",
    "    #Start the class with a text object\n",
    "    def __init__(self,path_to_text):\n",
    "        self.text = open(path_to_text, \"r+\")\n",
    "        \n",
    "    #Create a method to read lines\n",
    "    def read_lines(self):\n",
    "        self.lines = self.text.readlines()\n",
    "\n",
    "    #Create a method to split lines\n",
    "    def split_lines(self):\n",
    "        self.list_of_lines = []\n",
    "        for line in self.lines:\n",
    "            self.list_of_lines.append(line.split())\n",
    "            \n",
    "    #Create a method to convert words to lower and removing special charcter\n",
    "    def cleaning_lines(self):\n",
    "        print(\"{:*^118}\".format(\"*\"))\n",
    "        self.new_list_of_lines = []\n",
    "        for line in tqdm(self.list_of_lines):\n",
    "            if \"****\" in line:\n",
    "                self.new_list_of_lines.append(line)\n",
    "            else:\n",
    "                self.new_list_of_lines.append([word.lower() for word in line])\n",
    "                \n",
    "    def change_terms(self,terms,new_terms):\n",
    "        lines = []\n",
    "        for line in self.new_list_of_lines:\n",
    "            for i in range(len(terms)):\n",
    "                line = [word.replace(terms[i], new_terms[i]) for word in line]\n",
    "            lines.append(line)\n",
    "        self.new_list_of_lines = lines\n",
    "                \n",
    "    def to_text(self):\n",
    "        line_list = []\n",
    "        for lines in self.new_list_of_lines:\n",
    "            line_list.append(\" \".join(str(word) for word in lines))\n",
    "        self.text = \" \".join(line for line in line_list)\n",
    "        \n",
    "    def write_text(self,file_name):\n",
    "        f = open(file_name + \".txt\",\"w+\")\n",
    "        for line in self.text:\n",
    "            f.write(line)\n",
    "        f.close\n",
    "                \n",
    "    def print_text(self,start,stop, text = False):\n",
    "        if text:\n",
    "            print(self.text)\n",
    "        else:\n",
    "            try:\n",
    "                print(self.new_list_of_lines[start:stop])\n",
    "            except:\n",
    "                print(self.list_of_lines[start:stop])       "
   ]
  },
  {
   "cell_type": "code",
   "execution_count": 2,
   "metadata": {},
   "outputs": [],
   "source": [
    "zika_1 = ProcessText(path_to_text = \"/home/rodriguesmsb/Downloads/Zika_science/data/ira/ira_zika 5.txt\")"
   ]
  },
  {
   "cell_type": "code",
   "execution_count": 3,
   "metadata": {},
   "outputs": [],
   "source": [
    "zika_1.read_lines()"
   ]
  },
  {
   "cell_type": "code",
   "execution_count": 4,
   "metadata": {},
   "outputs": [],
   "source": [
    "zika_1.split_lines()"
   ]
  },
  {
   "cell_type": "code",
   "execution_count": 5,
   "metadata": {
    "scrolled": true
   },
   "outputs": [
    {
     "name": "stdout",
     "output_type": "stream",
     "text": [
      "[['****', '*UT_WOS:000454627200144', '*PY_2018', '*WC1_Multidisciplinary_Sciences', '*SO_PLOS_ONE', '*CLA_Clu1', '*CLB_Clu4', '*PA1_39'], ['Mapping', 'the', 'global', 'potential', 'distributions', 'of', 'two', 'arboviral', 'vectors', 'Aedes', 'aegypti', 'and', 'Ae.', 'albopictus', 'under', 'changing', 'climate'], ['Background', 'Aedes', 'aegypti', 'and', 'Ae.', 'albopictus', 'are', 'the', 'primary', 'vectors', 'that', 'transmit', 'several', 'arboviral', 'diseases,', 'including', 'dengue,', 'chikungunya,', 'and', 'Zika.', 'The', 'world', 'is', 'presently', 'experiencing', 'a', 'series', 'of', 'outbreaks', 'of', 'these', 'diseases,', 'so,', 'we', 'still', 'require', 'to', 'better', 'understand', 'the', 'current', 'distributions', 'and', 'possible', 'future', 'shifts', 'of', 'their', 'vectors', 'for', 'successful', 'surveillance', 'and', 'control', 'programs.', 'Few', 'studies', 'assessed', 'the', 'influences', 'of', 'climate', 'change', 'on', 'the', 'spatial', 'distributional', 'patterns', 'and', 'abundance', 'of', 'these', 'important', 'vectors,', 'particularly', 'using', 'the', 'most', 'recent', 'climatic', 'scenarios.', 'Here,', 'we', 'updated', 'the', 'current', 'potential', 'distributions', 'of', 'both', 'vectors', 'and', 'assessed', 'their', 'distributional', 'changes', 'under', 'future', 'climate', 'conditions.', 'Methods', 'We', 'used', 'ecological', 'niche', 'modeling', 'approach', 'to', 'estimate', 'the', 'potential', 'distributions', 'of', 'Ae.', 'aegypti', 'and', 'Ae.', 'albopictus', 'under', 'present-day', 'and', 'future', 'climate', 'conditions.', 'This', 'approach', 'fits', 'ecological', 'niche', 'model', 'from', 'occurrence', 'records', 'of', 'each', 'species', 'and', 'environmental', 'variables.', 'For', 'each', 'species,', 'future', 'projections', 'were', 'based', 'on', 'climatic', 'data', 'from', '9', 'general', 'circulation', 'models', '(GCMs)', 'for', 'each', 'representative', 'concentration', 'pathway', '(RCP)', 'in', 'each', 'time', 'period,', 'with', 'a', 'total', 'of', '72', 'combinations', 'in', 'four', 'RCPs', 'in', '2050', 'and', '2070.', 'All', 'ENMs', 'were', 'tested', 'using', 'the', 'partial', 'receiver', 'operating', 'characteristic', '(pROC)', 'and', 'a', 'set', 'of', '2,048', 'and', '2,003', 'additional', 'independent', 'records', 'for', 'Ae.', 'aegypti', 'and', 'Ae.', 'albopictus,', 'respectively.', 'Finally,', 'we', 'used', 'background', 'similarity', 'test', 'to', 'assess', 'the', 'similarity', 'between', 'the', 'ENMs', 'of', 'Ae.', 'aegypti', 'and', 'Ae.', 'albopictus.', 'Results', 'The', 'predicted', 'potential', 'distribution', 'of', 'Ae.', 'aegypti', 'and', 'Ae.', 'albopictus', 'coincided', 'with', 'the', 'current', 'and', 'historical', 'known', 'distributions', 'of', 'both', 'species.', 'Aedes', 'aegypti', 'showed', 'a', 'markedly', 'broader', 'distributional', 'potential', 'across', 'tropical', 'and', 'subtropical', 'regions', 'than', 'Ae.', 'albopictus.', 'Interestingly,', 'Ae.', 'albopictus', 'was', 'markedly', 'broader', 'in', 'distributional', 'potential', 'across', 'temperate', 'Europe', 'and', 'the', 'United', 'States.', 'All', 'ecological', 'niche', 'models', '(ENMs)', 'were', 'statistically', 'robust', '(P', '<', '0.001).', 'ENMs', 'successfully', 'anticipated', '98%', '(1,999/2,048)', 'and', '99%', '(1,985/2,003)', 'of', 'additional', 'independent', 'records', 'for', 'both', 'Ae.', 'aegypti', 'and', 'Ae.', 'albopictus,', 'respectively', '(P', '<', '0.001).', 'ENMs', 'based', 'on', 'future', 'conditions', 'showed', 'similarity', 'between', 'the', 'overall', 'distributional', 'patterns', 'of', 'future-day', 'and', 'present-day', 'conditions;', 'however,', 'there', 'was', 'a', 'northern', 'range', 'expansion', 'in', 'the', 'continental', 'USA', 'to', 'include', 'parts', 'of', 'Southern', 'Canada', 'in', 'case', 'of', 'Ae.', 'albopictus', 'in', 'both', '2050', 'and', '2070.', 'Future', 'models', 'also', 'anticipated', 'further', 'expansion', 'of', 'Ae.', 'albopictus', 'to', 'the', 'East', 'to', 'include', 'most', 'of', 'Europe', 'in', 'both', 'time', 'periods.', 'Aedes', 'aegypti', 'was', 'anticipated', 'to', 'expand', 'to', 'the', 'South', 'in', 'East', 'Australia', 'in', '2050', 'and', '2070.', 'The', 'predictions', 'showed', 'differences', 'in', 'distributional', 'potential', 'of', 'both', 'species', 'between', 'diverse', 'RCPs', 'in', '2050', 'and', '2070.', 'Finally,', 'the', 'background', 'similarity', 'test', 'comparing', 'the', 'ENMs', 'of', 'Ae.', 'aegypti', 'and', 'Ae.', 'albopictus', 'was', 'unable', 'to', 'reject', 'the', 'null', 'hypothesis', 'of', 'niche', 'similarity', 'between', 'both', 'species', '(P', '>', '0.05).', 'Conclusion', 'These', 'updated', 'maps', 'provided', 'details', 'to', 'better', 'guide', 'surveillance', 'and', 'control', 'programs', 'of', 'Ae.', 'aegypti', 'and', 'Ae.', 'albopictus.', 'They', 'have', 'also', 'significant', 'public', 'health', 'importance', 'as', 'a', 'baseline', 'for', 'predicting', 'the', 'emergence', 'of', 'arboviral', 'diseases', 'transmitted', 'by', 'both', 'vectors', 'in', 'new', 'areas', 'across', 'the', 'world.']]\n"
     ]
    }
   ],
   "source": [
    "zika_1.print_text(start = 0, stop = 3)"
   ]
  },
  {
   "cell_type": "code",
   "execution_count": 6,
   "metadata": {},
   "outputs": [
    {
     "name": "stderr",
     "output_type": "stream",
     "text": [
      "100%|██████████| 3/3 [00:00<00:00, 7290.22it/s]"
     ]
    },
    {
     "name": "stdout",
     "output_type": "stream",
     "text": [
      "**********************************************************************************************************************\n"
     ]
    },
    {
     "name": "stderr",
     "output_type": "stream",
     "text": [
      "\n"
     ]
    }
   ],
   "source": [
    "zika_1.cleaning_lines()"
   ]
  },
  {
   "cell_type": "code",
   "execution_count": 7,
   "metadata": {
    "scrolled": true
   },
   "outputs": [
    {
     "name": "stdout",
     "output_type": "stream",
     "text": [
      "[['****', '*UT_WOS:000454627200144', '*PY_2018', '*WC1_Multidisciplinary_Sciences', '*SO_PLOS_ONE', '*CLA_Clu1', '*CLB_Clu4', '*PA1_39'], ['mapping', 'the', 'global', 'potential', 'distributions', 'of', 'two', 'arboviral', 'vectors', 'aedes', 'aegypti', 'and', 'ae.', 'albopictus', 'under', 'changing', 'climate'], ['background', 'aedes', 'aegypti', 'and', 'ae.', 'albopictus', 'are', 'the', 'primary', 'vectors', 'that', 'transmit', 'several', 'arboviral', 'diseases,', 'including', 'dengue,', 'chikungunya,', 'and', 'zika.', 'the', 'world', 'is', 'presently', 'experiencing', 'a', 'series', 'of', 'outbreaks', 'of', 'these', 'diseases,', 'so,', 'we', 'still', 'require', 'to', 'better', 'understand', 'the', 'current', 'distributions', 'and', 'possible', 'future', 'shifts', 'of', 'their', 'vectors', 'for', 'successful', 'surveillance', 'and', 'control', 'programs.', 'few', 'studies', 'assessed', 'the', 'influences', 'of', 'climate', 'change', 'on', 'the', 'spatial', 'distributional', 'patterns', 'and', 'abundance', 'of', 'these', 'important', 'vectors,', 'particularly', 'using', 'the', 'most', 'recent', 'climatic', 'scenarios.', 'here,', 'we', 'updated', 'the', 'current', 'potential', 'distributions', 'of', 'both', 'vectors', 'and', 'assessed', 'their', 'distributional', 'changes', 'under', 'future', 'climate', 'conditions.', 'methods', 'we', 'used', 'ecological', 'niche', 'modeling', 'approach', 'to', 'estimate', 'the', 'potential', 'distributions', 'of', 'ae.', 'aegypti', 'and', 'ae.', 'albopictus', 'under', 'present-day', 'and', 'future', 'climate', 'conditions.', 'this', 'approach', 'fits', 'ecological', 'niche', 'model', 'from', 'occurrence', 'records', 'of', 'each', 'species', 'and', 'environmental', 'variables.', 'for', 'each', 'species,', 'future', 'projections', 'were', 'based', 'on', 'climatic', 'data', 'from', '9', 'general', 'circulation', 'models', '(gcms)', 'for', 'each', 'representative', 'concentration', 'pathway', '(rcp)', 'in', 'each', 'time', 'period,', 'with', 'a', 'total', 'of', '72', 'combinations', 'in', 'four', 'rcps', 'in', '2050', 'and', '2070.', 'all', 'enms', 'were', 'tested', 'using', 'the', 'partial', 'receiver', 'operating', 'characteristic', '(proc)', 'and', 'a', 'set', 'of', '2,048', 'and', '2,003', 'additional', 'independent', 'records', 'for', 'ae.', 'aegypti', 'and', 'ae.', 'albopictus,', 'respectively.', 'finally,', 'we', 'used', 'background', 'similarity', 'test', 'to', 'assess', 'the', 'similarity', 'between', 'the', 'enms', 'of', 'ae.', 'aegypti', 'and', 'ae.', 'albopictus.', 'results', 'the', 'predicted', 'potential', 'distribution', 'of', 'ae.', 'aegypti', 'and', 'ae.', 'albopictus', 'coincided', 'with', 'the', 'current', 'and', 'historical', 'known', 'distributions', 'of', 'both', 'species.', 'aedes', 'aegypti', 'showed', 'a', 'markedly', 'broader', 'distributional', 'potential', 'across', 'tropical', 'and', 'subtropical', 'regions', 'than', 'ae.', 'albopictus.', 'interestingly,', 'ae.', 'albopictus', 'was', 'markedly', 'broader', 'in', 'distributional', 'potential', 'across', 'temperate', 'europe', 'and', 'the', 'united', 'states.', 'all', 'ecological', 'niche', 'models', '(enms)', 'were', 'statistically', 'robust', '(p', '<', '0.001).', 'enms', 'successfully', 'anticipated', '98%', '(1,999/2,048)', 'and', '99%', '(1,985/2,003)', 'of', 'additional', 'independent', 'records', 'for', 'both', 'ae.', 'aegypti', 'and', 'ae.', 'albopictus,', 'respectively', '(p', '<', '0.001).', 'enms', 'based', 'on', 'future', 'conditions', 'showed', 'similarity', 'between', 'the', 'overall', 'distributional', 'patterns', 'of', 'future-day', 'and', 'present-day', 'conditions;', 'however,', 'there', 'was', 'a', 'northern', 'range', 'expansion', 'in', 'the', 'continental', 'usa', 'to', 'include', 'parts', 'of', 'southern', 'canada', 'in', 'case', 'of', 'ae.', 'albopictus', 'in', 'both', '2050', 'and', '2070.', 'future', 'models', 'also', 'anticipated', 'further', 'expansion', 'of', 'ae.', 'albopictus', 'to', 'the', 'east', 'to', 'include', 'most', 'of', 'europe', 'in', 'both', 'time', 'periods.', 'aedes', 'aegypti', 'was', 'anticipated', 'to', 'expand', 'to', 'the', 'south', 'in', 'east', 'australia', 'in', '2050', 'and', '2070.', 'the', 'predictions', 'showed', 'differences', 'in', 'distributional', 'potential', 'of', 'both', 'species', 'between', 'diverse', 'rcps', 'in', '2050', 'and', '2070.', 'finally,', 'the', 'background', 'similarity', 'test', 'comparing', 'the', 'enms', 'of', 'ae.', 'aegypti', 'and', 'ae.', 'albopictus', 'was', 'unable', 'to', 'reject', 'the', 'null', 'hypothesis', 'of', 'niche', 'similarity', 'between', 'both', 'species', '(p', '>', '0.05).', 'conclusion', 'these', 'updated', 'maps', 'provided', 'details', 'to', 'better', 'guide', 'surveillance', 'and', 'control', 'programs', 'of', 'ae.', 'aegypti', 'and', 'ae.', 'albopictus.', 'they', 'have', 'also', 'significant', 'public', 'health', 'importance', 'as', 'a', 'baseline', 'for', 'predicting', 'the', 'emergence', 'of', 'arboviral', 'diseases', 'transmitted', 'by', 'both', 'vectors', 'in', 'new', 'areas', 'across', 'the', 'world.']]\n"
     ]
    }
   ],
   "source": [
    "zika_1.print_text(start = 0, stop = 3)"
   ]
  },
  {
   "cell_type": "code",
   "execution_count": 8,
   "metadata": {},
   "outputs": [],
   "source": [
    "zika_1.change_terms(terms = [\"ae.\"], new_terms = [\"aedes\"])"
   ]
  },
  {
   "cell_type": "code",
   "execution_count": 9,
   "metadata": {},
   "outputs": [
    {
     "name": "stdout",
     "output_type": "stream",
     "text": [
      "[['****', '*UT_WOS:000454627200144', '*PY_2018', '*WC1_Multidisciplinary_Sciences', '*SO_PLOS_ONE', '*CLA_Clu1', '*CLB_Clu4', '*PA1_39'], ['mapping', 'the', 'global', 'potential', 'distributions', 'of', 'two', 'arboviral', 'vectors', 'aedes', 'aegypti', 'and', 'aedes', 'albopictus', 'under', 'changing', 'climate'], ['background', 'aedes', 'aegypti', 'and', 'aedes', 'albopictus', 'are', 'the', 'primary', 'vectors', 'that', 'transmit', 'several', 'arboviral', 'diseases,', 'including', 'dengue,', 'chikungunya,', 'and', 'zika.', 'the', 'world', 'is', 'presently', 'experiencing', 'a', 'series', 'of', 'outbreaks', 'of', 'these', 'diseases,', 'so,', 'we', 'still', 'require', 'to', 'better', 'understand', 'the', 'current', 'distributions', 'and', 'possible', 'future', 'shifts', 'of', 'their', 'vectors', 'for', 'successful', 'surveillance', 'and', 'control', 'programs.', 'few', 'studies', 'assessed', 'the', 'influences', 'of', 'climate', 'change', 'on', 'the', 'spatial', 'distributional', 'patterns', 'and', 'abundance', 'of', 'these', 'important', 'vectors,', 'particularly', 'using', 'the', 'most', 'recent', 'climatic', 'scenarios.', 'here,', 'we', 'updated', 'the', 'current', 'potential', 'distributions', 'of', 'both', 'vectors', 'and', 'assessed', 'their', 'distributional', 'changes', 'under', 'future', 'climate', 'conditions.', 'methods', 'we', 'used', 'ecological', 'niche', 'modeling', 'approach', 'to', 'estimate', 'the', 'potential', 'distributions', 'of', 'aedes', 'aegypti', 'and', 'aedes', 'albopictus', 'under', 'present-day', 'and', 'future', 'climate', 'conditions.', 'this', 'approach', 'fits', 'ecological', 'niche', 'model', 'from', 'occurrence', 'records', 'of', 'each', 'species', 'and', 'environmental', 'variables.', 'for', 'each', 'species,', 'future', 'projections', 'were', 'based', 'on', 'climatic', 'data', 'from', '9', 'general', 'circulation', 'models', '(gcms)', 'for', 'each', 'representative', 'concentration', 'pathway', '(rcp)', 'in', 'each', 'time', 'period,', 'with', 'a', 'total', 'of', '72', 'combinations', 'in', 'four', 'rcps', 'in', '2050', 'and', '2070.', 'all', 'enms', 'were', 'tested', 'using', 'the', 'partial', 'receiver', 'operating', 'characteristic', '(proc)', 'and', 'a', 'set', 'of', '2,048', 'and', '2,003', 'additional', 'independent', 'records', 'for', 'aedes', 'aegypti', 'and', 'aedes', 'albopictus,', 'respectively.', 'finally,', 'we', 'used', 'background', 'similarity', 'test', 'to', 'assess', 'the', 'similarity', 'between', 'the', 'enms', 'of', 'aedes', 'aegypti', 'and', 'aedes', 'albopictus.', 'results', 'the', 'predicted', 'potential', 'distribution', 'of', 'aedes', 'aegypti', 'and', 'aedes', 'albopictus', 'coincided', 'with', 'the', 'current', 'and', 'historical', 'known', 'distributions', 'of', 'both', 'species.', 'aedes', 'aegypti', 'showed', 'a', 'markedly', 'broader', 'distributional', 'potential', 'across', 'tropical', 'and', 'subtropical', 'regions', 'than', 'aedes', 'albopictus.', 'interestingly,', 'aedes', 'albopictus', 'was', 'markedly', 'broader', 'in', 'distributional', 'potential', 'across', 'temperate', 'europe', 'and', 'the', 'united', 'states.', 'all', 'ecological', 'niche', 'models', '(enms)', 'were', 'statistically', 'robust', '(p', '<', '0.001).', 'enms', 'successfully', 'anticipated', '98%', '(1,999/2,048)', 'and', '99%', '(1,985/2,003)', 'of', 'additional', 'independent', 'records', 'for', 'both', 'aedes', 'aegypti', 'and', 'aedes', 'albopictus,', 'respectively', '(p', '<', '0.001).', 'enms', 'based', 'on', 'future', 'conditions', 'showed', 'similarity', 'between', 'the', 'overall', 'distributional', 'patterns', 'of', 'future-day', 'and', 'present-day', 'conditions;', 'however,', 'there', 'was', 'a', 'northern', 'range', 'expansion', 'in', 'the', 'continental', 'usa', 'to', 'include', 'parts', 'of', 'southern', 'canada', 'in', 'case', 'of', 'aedes', 'albopictus', 'in', 'both', '2050', 'and', '2070.', 'future', 'models', 'also', 'anticipated', 'further', 'expansion', 'of', 'aedes', 'albopictus', 'to', 'the', 'east', 'to', 'include', 'most', 'of', 'europe', 'in', 'both', 'time', 'periods.', 'aedes', 'aegypti', 'was', 'anticipated', 'to', 'expand', 'to', 'the', 'south', 'in', 'east', 'australia', 'in', '2050', 'and', '2070.', 'the', 'predictions', 'showed', 'differences', 'in', 'distributional', 'potential', 'of', 'both', 'species', 'between', 'diverse', 'rcps', 'in', '2050', 'and', '2070.', 'finally,', 'the', 'background', 'similarity', 'test', 'comparing', 'the', 'enms', 'of', 'aedes', 'aegypti', 'and', 'aedes', 'albopictus', 'was', 'unable', 'to', 'reject', 'the', 'null', 'hypothesis', 'of', 'niche', 'similarity', 'between', 'both', 'species', '(p', '>', '0.05).', 'conclusion', 'these', 'updated', 'maps', 'provided', 'details', 'to', 'better', 'guide', 'surveillance', 'and', 'control', 'programs', 'of', 'aedes', 'aegypti', 'and', 'aedes', 'albopictus.', 'they', 'have', 'also', 'significant', 'public', 'health', 'importance', 'as', 'a', 'baseline', 'for', 'predicting', 'the', 'emergence', 'of', 'arboviral', 'diseases', 'transmitted', 'by', 'both', 'vectors', 'in', 'new', 'areas', 'across', 'the', 'world.']]\n"
     ]
    }
   ],
   "source": [
    "zika_1.print_text(start = 0, stop = 3)"
   ]
  },
  {
   "cell_type": "code",
   "execution_count": 10,
   "metadata": {},
   "outputs": [],
   "source": [
    "zika_1.to_text()"
   ]
  },
  {
   "cell_type": "code",
   "execution_count": 11,
   "metadata": {},
   "outputs": [
    {
     "name": "stdout",
     "output_type": "stream",
     "text": [
      "**** *UT_WOS:000454627200144 *PY_2018 *WC1_Multidisciplinary_Sciences *SO_PLOS_ONE *CLA_Clu1 *CLB_Clu4 *PA1_39 mapping the global potential distributions of two arboviral vectors aedes aegypti and aedes albopictus under changing climate background aedes aegypti and aedes albopictus are the primary vectors that transmit several arboviral diseases, including dengue, chikungunya, and zika. the world is presently experiencing a series of outbreaks of these diseases, so, we still require to better understand the current distributions and possible future shifts of their vectors for successful surveillance and control programs. few studies assessed the influences of climate change on the spatial distributional patterns and abundance of these important vectors, particularly using the most recent climatic scenarios. here, we updated the current potential distributions of both vectors and assessed their distributional changes under future climate conditions. methods we used ecological niche modeling approach to estimate the potential distributions of aedes aegypti and aedes albopictus under present-day and future climate conditions. this approach fits ecological niche model from occurrence records of each species and environmental variables. for each species, future projections were based on climatic data from 9 general circulation models (gcms) for each representative concentration pathway (rcp) in each time period, with a total of 72 combinations in four rcps in 2050 and 2070. all enms were tested using the partial receiver operating characteristic (proc) and a set of 2,048 and 2,003 additional independent records for aedes aegypti and aedes albopictus, respectively. finally, we used background similarity test to assess the similarity between the enms of aedes aegypti and aedes albopictus. results the predicted potential distribution of aedes aegypti and aedes albopictus coincided with the current and historical known distributions of both species. aedes aegypti showed a markedly broader distributional potential across tropical and subtropical regions than aedes albopictus. interestingly, aedes albopictus was markedly broader in distributional potential across temperate europe and the united states. all ecological niche models (enms) were statistically robust (p < 0.001). enms successfully anticipated 98% (1,999/2,048) and 99% (1,985/2,003) of additional independent records for both aedes aegypti and aedes albopictus, respectively (p < 0.001). enms based on future conditions showed similarity between the overall distributional patterns of future-day and present-day conditions; however, there was a northern range expansion in the continental usa to include parts of southern canada in case of aedes albopictus in both 2050 and 2070. future models also anticipated further expansion of aedes albopictus to the east to include most of europe in both time periods. aedes aegypti was anticipated to expand to the south in east australia in 2050 and 2070. the predictions showed differences in distributional potential of both species between diverse rcps in 2050 and 2070. finally, the background similarity test comparing the enms of aedes aegypti and aedes albopictus was unable to reject the null hypothesis of niche similarity between both species (p > 0.05). conclusion these updated maps provided details to better guide surveillance and control programs of aedes aegypti and aedes albopictus. they have also significant public health importance as a baseline for predicting the emergence of arboviral diseases transmitted by both vectors in new areas across the world.\n"
     ]
    }
   ],
   "source": [
    "zika_1.print_text(start = None, stop = None, text = True)"
   ]
  },
  {
   "cell_type": "code",
   "execution_count": 12,
   "metadata": {},
   "outputs": [],
   "source": [
    "zika_1.write_text(file_name = \"ira_zika 6\")"
   ]
  }
 ],
 "metadata": {
  "anaconda-cloud": {},
  "kernelspec": {
   "display_name": "Python 3",
   "language": "python",
   "name": "python3"
  },
  "language_info": {
   "codemirror_mode": {
    "name": "ipython",
    "version": 3
   },
   "file_extension": ".py",
   "mimetype": "text/x-python",
   "name": "python",
   "nbconvert_exporter": "python",
   "pygments_lexer": "ipython3",
   "version": "3.6.7"
  }
 },
 "nbformat": 4,
 "nbformat_minor": 2
}
